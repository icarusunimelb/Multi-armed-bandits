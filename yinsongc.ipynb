{
 "cells": [
  {
   "cell_type": "markdown",
   "metadata": {},
   "source": [
    "# COMP90051 Project 2"
   ]
  },
  {
   "cell_type": "code",
   "execution_count": 1,
   "metadata": {},
   "outputs": [],
   "source": [
    "# Do not edit. These are the only imports permitted.\n",
    "import numpy as np\n",
    "from abc import ABC, abstractmethod\n",
    "from sklearn.tree import DecisionTreeClassifier   # for Task 4\n",
    "from sklearn.base import clone                    # optional for Task 4\n",
    "import matplotlib.pyplot as plt                   # for Task 5\n",
    "from sklearn.metrics.pairwise import rbf_kernel   # for Task 6"
   ]
  },
  {
   "cell_type": "code",
   "execution_count": 2,
   "metadata": {},
   "outputs": [],
   "source": [
    "class MAB(ABC):\n",
    "    \"\"\"Base class for a contextual multi-armed bandit (MAB)\n",
    "    \n",
    "    Parameters\n",
    "    ----------\n",
    "    n_arms : int\n",
    "        Number of arms.\n",
    "    \"\"\"\n",
    "    def __init__(self, n_arms):\n",
    "        if not np.issubdtype(type(n_arms), np.integer):\n",
    "            raise TypeError(\"`n_arms` must be an integer\")\n",
    "        if not n_arms >= 0:\n",
    "            raise ValueError(\"`n_arms` must be non-negative\")\n",
    "        self.n_arms = n_arms\n",
    "        # your code here (if you like)\n",
    "        \n",
    "    @abstractmethod\n",
    "    def play(self, context):\n",
    "        \"\"\"Play a round\n",
    "        \n",
    "        Parameters\n",
    "        ----------        \n",
    "        context : float numpy.ndarray, shape (n_arms, n_dims), optional\n",
    "            An array of context vectors presented to the MAB. The 0-th \n",
    "            axis indexes the arms, and the 1-st axis indexes the features.\n",
    "            Non-contextual bandits accept a context of None.\n",
    "        \n",
    "        Returns\n",
    "        -------\n",
    "        arm : int\n",
    "            Integer index of the arm played this round. Should be in the set \n",
    "            {0, ..., n_arms - 1}.\n",
    "        \"\"\"\n",
    "        # your code here (if you like)\n",
    "    \n",
    "    @abstractmethod\n",
    "    def update(self, arm, reward, context):\n",
    "        \"\"\"Update the internal state of the MAB after a play\n",
    "        \n",
    "        Parameters\n",
    "        ----------\n",
    "        arm : int\n",
    "            Integer index of the played arm in the set {0, ..., n_arms - 1}.\n",
    "        \n",
    "        reward : float\n",
    "            Reward received from the arm.\n",
    "        \n",
    "        context : float numpy.ndarray, shape (n_arms, n_dims), optional\n",
    "            An array of context vectors that was presented to the MAB. The \n",
    "            0-th axis indexes the arms, and the 1-st axis indexes the \n",
    "            features. Non-contextual bandits accept a context of None. \n",
    "        \"\"\"\n",
    "        # your code here (if you like)"
   ]
  },
  {
   "cell_type": "code",
   "execution_count": 3,
   "metadata": {},
   "outputs": [],
   "source": [
    "# Define global functions here, if required\n",
    "\n",
    "# add random tie breaking to np.argmax function\n",
    "def random_argmax(b,**kw):\n",
    "  \"\"\" a random tie-breaking argmax\"\"\"\n",
    "  return np.argmax(np.random.random(b.shape) * (b==np.amax(b,**kw, keepdims=True)), **kw)"
   ]
  },
  {
   "cell_type": "markdown",
   "metadata": {},
   "source": [
    "## 1. Implement ε-greedy and UCB MABs"
   ]
  },
  {
   "cell_type": "code",
   "execution_count": 4,
   "metadata": {},
   "outputs": [],
   "source": [
    "class EpsGreedy(MAB):\n",
    "    \"\"\"Epsilon-Greedy multi-armed bandit\n",
    "\n",
    "    Parameters\n",
    "    ----------\n",
    "    n_arms : int\n",
    "        Number of arms\n",
    "\n",
    "    epsilon : float\n",
    "        Explore probability. Must be in the interval [0, 1].\n",
    "\n",
    "    Q0 : float, default=np.inf\n",
    "        Initial value for the arms.\n",
    "    \"\"\"\n",
    "    def __init__(self, n_arms, epsilon, Q0=np.inf):\n",
    "        super().__init__(n_arms)\n",
    "        self.epsilon = epsilon\n",
    "        self.Q0 = Q0\n",
    "        # counter for how many times each arm is selected\n",
    "        self.arm_count = np.zeros(self.n_arms)\n",
    "        # sum of the reward of different arms\n",
    "        self.reward_sum = np.zeros(self.n_arms)\n",
    "    \n",
    "    def play(self, context=None):\n",
    "        explore = np.random.binomial(1, self.epsilon)\n",
    "        # there is epsilon probability to explore new arm\n",
    "        if explore == 1:\n",
    "            # select random arm\n",
    "            return np.random.choice(self.n_arms)\n",
    "        # otherwise exploit\n",
    "        else:\n",
    "            Q = np.full(self.n_arms, self.Q0)\n",
    "            for i in range(self.n_arms):\n",
    "                if self.arm_count[i] > 0:\n",
    "                    Q[i] = self.reward_sum[i]/self.arm_count[i]\n",
    "            # select the arm with maximum Qt\n",
    "            return random_argmax(Q)\n",
    "\n",
    "    def update(self, arm, reward, context=None):\n",
    "        self.arm_count[arm] += 1\n",
    "        self.reward_sum[arm] += reward"
   ]
  },
  {
   "cell_type": "code",
   "execution_count": 5,
   "metadata": {},
   "outputs": [],
   "source": [
    "class UCB(MAB):\n",
    "    \"\"\"Upper Confidence Bound (UCB) multi-armed bandit\n",
    "\n",
    "    Parameters\n",
    "    ----------\n",
    "    n_arms : int\n",
    "        Number of arms.\n",
    "\n",
    "    rho : float\n",
    "        Positive real explore-exploit parameter.\n",
    "\n",
    "    Q0 : float, default=np.inf\n",
    "        Initial value for the arms.\n",
    "    \"\"\"\n",
    "    def __init__(self, n_arms, rho, Q0=np.inf):\n",
    "        super().__init__(n_arms)\n",
    "        self.rho = rho\n",
    "        self.Q0 = Q0\n",
    "        # counter for how many times each arm is selected\n",
    "        self.arm_count = np.zeros(self.n_arms)\n",
    "        # sum of the reward of different arms\n",
    "        self.reward_sum = np.zeros(self.n_arms)\n",
    "        # number of round\n",
    "        self.t = 1\n",
    "    \n",
    "    def play(self, context=None):\n",
    "        Q = np.full(self.n_arms, self.Q0)\n",
    "        for a in range(self.n_arms):\n",
    "            if self.arm_count[a] > 0:\n",
    "                Mu = self.reward_sum[a]/self.arm_count[a]\n",
    "                explore_degree = np.sqrt((self.rho*np.log(self.t))/self.arm_count[a])\n",
    "                Q[a] = Mu + explore_degree\n",
    "        return random_argmax(Q)\n",
    "\n",
    "        \n",
    "    def update(self, arm, reward, context=None):\n",
    "        self.t += 1\n",
    "        self.arm_count[arm] += 1\n",
    "        self.reward_sum[arm] += reward"
   ]
  },
  {
   "cell_type": "markdown",
   "metadata": {},
   "source": [
    "## 2. Implement off-policy evaluation"
   ]
  },
  {
   "cell_type": "code",
   "execution_count": 6,
   "metadata": {},
   "outputs": [],
   "source": [
    "def offlineEvaluate(mab, arms, rewards, contexts, n_rounds=None):\n",
    "    \"\"\"Offline evaluation of a multi-armed bandit\n",
    "    \n",
    "    Parameters\n",
    "    ----------\n",
    "    mab : instance of MAB\n",
    "        MAB to evaluate.\n",
    "    \n",
    "    arms : integer numpy.ndarray, shape (n_events,) \n",
    "        Array containing the history of pulled arms, represented as integer \n",
    "        indices in the set {0, ..., mab.n_arms}\n",
    "    \n",
    "    rewards : float numpy.ndarray, shape (n_events,)\n",
    "        Array containing the history of rewards.\n",
    "    \n",
    "    contexts : float numpy.ndarray, shape (n_events, n_arms, n_dims)\n",
    "        Array containing the history of contexts presented to the arms. \n",
    "        The 0-th axis indexes the events in the history, the 1-st axis \n",
    "        indexes the arms and the 2-nd axis indexed the features.\n",
    "        \n",
    "    n_rounds : int, default=None\n",
    "        Number of matching events to evaluate the MAB on. If None, \n",
    "        continue evaluating until the historical events are exhausted.\n",
    "    \n",
    "    Returns\n",
    "    -------\n",
    "    out : float numpy.ndarray\n",
    "        Rewards for the matching events.\n",
    "    \"\"\"\n",
    "    # list of matching round's reward\n",
    "    R = []\n",
    "    # total round number in the dataset\n",
    "    T = arms.shape[0]\n",
    "    # a counter for the matching round\n",
    "    round_count = 0\n",
    "    for t in range(0, T):\n",
    "        # process until the end if n_rounds is None\n",
    "        # otherwise process maximum n_rounds matching rounds\n",
    "        if n_rounds is not None and round_count == n_rounds:\n",
    "            break\n",
    "        if mab.play(contexts[t]) == arms[t]:\n",
    "            mab.update(arms[t], rewards[t], contexts[t])\n",
    "            R.append(rewards[t])\n",
    "            round_count += 1\n",
    "    return np.array(R)"
   ]
  },
  {
   "cell_type": "code",
   "execution_count": 7,
   "metadata": {},
   "outputs": [],
   "source": [
    "# load dataset here\n",
    "arms = []\n",
    "rewards = []\n",
    "contexts = []\n",
    "DIM_NUM = 10\n",
    "\n",
    "with open('dataset.txt') as dataset:\n",
    "    for line in dataset:\n",
    "        str_list = line.split()\n",
    "        arms.append(str_list[0])\n",
    "        rewards.append(str_list[1])\n",
    "        # all the contexts for current round/line\n",
    "        context_as = []\n",
    "        for i in range(10):\n",
    "            start = 2 + i * DIM_NUM\n",
    "            end = 2 + (i+1)*DIM_NUM\n",
    "            # the context for a specific arm i\n",
    "            context_a = str_list[start:end]\n",
    "            context_as.append(context_a)\n",
    "        contexts.append(context_as)\n",
    "\n",
    "arms = np.asarray(arms, dtype=np.int16)\n",
    "rewards = np.asarray(rewards, dtype=np.float64)\n",
    "contexts = np.asarray(contexts, dtype=np.float64)"
   ]
  },
  {
   "cell_type": "code",
   "execution_count": 8,
   "metadata": {},
   "outputs": [
    {
     "name": "stdout",
     "output_type": "stream",
     "text": [
      "EpsGreedy average reward 0.26625\n"
     ]
    }
   ],
   "source": [
    "mab = EpsGreedy(10, 0.05)\n",
    "results_EpsGreedy = offlineEvaluate(mab, arms, rewards, contexts, 800)\n",
    "print('EpsGreedy average reward', np.mean(results_EpsGreedy))"
   ]
  },
  {
   "cell_type": "code",
   "execution_count": 9,
   "metadata": {},
   "outputs": [
    {
     "name": "stdout",
     "output_type": "stream",
     "text": [
      "UCB average reward 0.16\n"
     ]
    }
   ],
   "source": [
    "mab = UCB(10, 1.0)\n",
    "results_UCB = offlineEvaluate(mab, arms, rewards, contexts, 800)\n",
    "print('UCB average reward', np.mean(results_UCB))"
   ]
  },
  {
   "cell_type": "markdown",
   "metadata": {},
   "source": [
    "## 3. Implement LinUCB contextual MAB"
   ]
  },
  {
   "cell_type": "code",
   "execution_count": 10,
   "metadata": {},
   "outputs": [],
   "source": [
    "class LinUCB(MAB):\n",
    "    \"\"\"Contextual multi-armed bandit (LinUCB)\n",
    "\n",
    "    Parameters\n",
    "    ----------\n",
    "    n_arms : int\n",
    "        Number of arms.\n",
    "\n",
    "    n_dims : int\n",
    "        Number of features for each arm's context.\n",
    "\n",
    "    alpha : float\n",
    "        Positive real explore-exploit parameter.\n",
    "    \"\"\"\n",
    "    def __init__(self, n_arms, n_dims, alpha):\n",
    "        super().__init__(n_arms)\n",
    "        self.n_dims = n_dims\n",
    "        self.alpha = alpha\n",
    "        # init n_arms identity matrix with shape n_dims*n_dims\n",
    "        self.A = np.zeros([n_arms, n_dims, n_dims])\n",
    "        for k in range(n_arms):\n",
    "            for m in range(n_dims):\n",
    "                self.A[k][m][m] = 1\n",
    "        # init n_arms zero vector with shape n_dims*1\n",
    "        self.b = np.zeros([n_arms, n_dims, 1])\n",
    "    \n",
    "    def play(self, context):\n",
    "        p = []\n",
    "        for i in range(self.n_arms):\n",
    "            A_a = self.A[i]\n",
    "            theta = np.linalg.inv(A_a).dot(self.b[i])\n",
    "            x = np.reshape(context[i], [self.n_dims, 1])\n",
    "            p_a_left = np.matmul(np.transpose(theta), x)\n",
    "            p_a_right = self.alpha*np.sqrt(np.matmul(np.transpose(x), np.dot(np.linalg.inv(A_a), x)))\n",
    "            p_a = p_a_left + p_a_right\n",
    "            p.append(p_a)\n",
    "        p = np.array(p)\n",
    "        return random_argmax(p)\n",
    "    \n",
    "    def update(self, arm, reward, context):\n",
    "        x = np.reshape(context[arm], [self.n_dims, 1])\n",
    "        #  A = A + x.dot(x.T)\n",
    "        self.A[arm] += np.outer(x, x)\n",
    "        self.b[arm] += reward*x"
   ]
  },
  {
   "cell_type": "code",
   "execution_count": 11,
   "metadata": {},
   "outputs": [
    {
     "name": "stdout",
     "output_type": "stream",
     "text": [
      "LinUCB average reward 0.53\n"
     ]
    }
   ],
   "source": [
    "mab = LinUCB(10, 10, 1.0)\n",
    "results_LinUCB = offlineEvaluate(mab, arms, rewards, contexts, 800)\n",
    "print('LinUCB average reward', np.mean(results_LinUCB))"
   ]
  },
  {
   "cell_type": "markdown",
   "metadata": {},
   "source": [
    "## 4. Implement TreeBootstrap contextual MAB"
   ]
  },
  {
   "cell_type": "code",
   "execution_count": 12,
   "metadata": {},
   "outputs": [],
   "source": [
    "class TreeBootstrap(MAB):\n",
    "    \"\"\"Contextual Thompson sampled multi-armed bandit (TreeBootstrap)\n",
    "\n",
    "    Parameters\n",
    "    ----------\n",
    "    n_arms : int\n",
    "        Number of arms.\n",
    "\n",
    "    n_dims : int\n",
    "        Number of features for each arm's context.\n",
    "\n",
    "    tree : instance of sklearn.tree.DecisionTreeClassifier, optional\n",
    "        Decision tree to use for predicting the expected future reward. \n",
    "        Defaults to sklearn.tree.DecisionTreeClassifier().\n",
    "    \"\"\"\n",
    "    def __init__(self, n_arms, n_dims, tree=DecisionTreeClassifier()):\n",
    "        super().__init__(n_arms)\n",
    "        self.n_dims = n_dims\n",
    "        self.tree = tree\n",
    "        # history list for the context of observed arm and corresponding reward\n",
    "        self.D = []\n",
    "        for i in range(n_arms):\n",
    "            self.D.append([])\n",
    "        \n",
    "    def play(self, context):\n",
    "        p_hat = np.ones(self.n_arms)\n",
    "        for a in range(self.n_arms):\n",
    "            if len(self.D[a]) != 0:\n",
    "                # Bootstrap\n",
    "                D_tilde_index = np.random.choice(len(self.D[a]), len(self.D[a]), replace=True)\n",
    "                D_tilde = []\n",
    "                for index in D_tilde_index:\n",
    "                    D_tilde.append(self.D[a][index])\n",
    "                # split the feature and label\n",
    "                train_dataset = np.split(D_tilde, [10, 11], axis=1)\n",
    "                X = train_dataset[0]\n",
    "                Y = train_dataset[1]\n",
    "                # train DecisionTreeClassifier\n",
    "                self.tree.fit(X, Y)\n",
    "                result = self.tree.predict_proba([context[a]])\n",
    "                # calculate the expectation of the prediction\n",
    "                p_hat_a = 0\n",
    "                for i in range(len(self.tree.classes_)):\n",
    "                    p_hat_a += self.tree.classes_[i]*result[0][i]\n",
    "                p_hat[a] = p_hat_a\n",
    "        return random_argmax(p_hat)\n",
    "\n",
    "\n",
    "    \n",
    "    def update(self, arm, reward, context):\n",
    "        if len(self.D[arm]) == 0:\n",
    "            self.D[arm].append(np.concatenate((context[arm], [0])))\n",
    "            self.D[arm].append(np.concatenate((context[arm], [1])))\n",
    "        self.D[arm].append(np.concatenate((context[arm], [reward])))"
   ]
  },
  {
   "cell_type": "code",
   "execution_count": 13,
   "metadata": {},
   "outputs": [
    {
     "name": "stdout",
     "output_type": "stream",
     "text": [
      "TreeBootstrap average reward 0.685\n"
     ]
    }
   ],
   "source": [
    "mab = TreeBootstrap(10, 10)\n",
    "results_TreeBootstrap = offlineEvaluate(mab, arms, rewards, contexts, 800)\n",
    "print('TreeBootstrap average reward', np.mean(results_TreeBootstrap))"
   ]
  },
  {
   "cell_type": "markdown",
   "metadata": {},
   "source": [
    "## 5. Evaluation and hyperparameter tuning for LinUCB\n",
    "### 5.A."
   ]
  },
  {
   "cell_type": "code",
   "execution_count": 14,
   "metadata": {},
   "outputs": [
    {
     "data": {
      "text/plain": "<Figure size 432x288 with 1 Axes>",
      "image/png": "[encoded data removed]"
     },
     "metadata": {
      "needs_background": "light"
     },
     "output_type": "display_data"
    }
   ],
   "source": [
    "# round list from 1 to 800 with interval 1\n",
    "time_stamp = np.array(range(1, 801))\n",
    "\n",
    "# cumulate rewards\n",
    "cumulative_reward_EpsGreedy = np.cumsum(results_EpsGreedy)\n",
    "cumulative_reward_UCB = np.cumsum(results_UCB)\n",
    "cumulative_reward_LinUCB = np.cumsum(results_LinUCB)\n",
    "cumulative_reward_TreeBootstrap = np.cumsum(results_TreeBootstrap)\n",
    "\n",
    "plt.plot(time_stamp, cumulative_reward_EpsGreedy/time_stamp, color=\"red\", label=\"Epsilon-Greedy\")\n",
    "plt.plot(time_stamp,cumulative_reward_UCB/time_stamp, color=\"blue\", label=\"UCB\")\n",
    "plt.plot(time_stamp,cumulative_reward_LinUCB/time_stamp,color=\"yellow\",label=\"LinUCB\")\n",
    "plt.plot(time_stamp,cumulative_reward_TreeBootstrap/time_stamp,color=\"green\", label=\"TreeBootstrap\")\n",
    "\n",
    "plt.legend(loc=\"upper left\", frameon=True)\n",
    "plt.xlabel(\"T\")\n",
    "plt.ylabel(r\"$T^{-1}\\sum_{t=1}^T\\ r_{t,a}$\")\n",
    "plt.title(\"Per-round cumulative reward\")\n",
    "\n",
    "plt.show()"
   ]
  },
  {
   "cell_type": "markdown",
   "source": [
    "### 5.B."
   ],
   "metadata": {
    "collapsed": false
   }
  },
  {
   "cell_type": "code",
   "execution_count": 15,
   "metadata": {},
   "outputs": [
    {
     "name": "stdout",
     "output_type": "stream",
     "text": [
      "Alpha with the best performance is: 0.02\n",
      "LinUCB with best alpha average reward 0.73125\n"
     ]
    },
    {
     "data": {
      "text/plain": "Text(0.5, 1.0, 'Grid-search based strategy to select alpha hyperparameter in LinUCB')"
     },
     "execution_count": 15,
     "metadata": {},
     "output_type": "execute_result"
    },
    {
     "data": {
      "text/plain": "<Figure size 432x288 with 1 Axes>",
      "image/png": "[encoded data removed]"
     },
     "metadata": {
      "needs_background": "light"
     },
     "output_type": "display_data"
    }
   ],
   "source": [
    "# From the reference https://odr.chalmers.se/bitstream/20.500.12380/256336/1/256336.pdf#page31 chapter 4.1,\n",
    "# \"We notice the average reward for LinUCB is optimal only when alpha is between 0 and 1.\"\n",
    "# remove the condition that alpha == 0, as alpha is R+\n",
    "alphas = np.linspace(0, 1, 101)[1:]\n",
    "param_tuning_results = []\n",
    "\n",
    "for alpha in alphas:\n",
    "    mab = LinUCB(10, 10, alpha)\n",
    "    param_tuning_results_LinUCB = offlineEvaluate(mab, arms, rewards, contexts, 800)\n",
    "    param_tuning_results.append(np.mean(param_tuning_results_LinUCB))\n",
    "\n",
    "best_alpha = alphas[random_argmax(np.array(param_tuning_results))]\n",
    "print(\"Alpha with the best performance is: \"+str(best_alpha))\n",
    "\n",
    "# LinUCB with the best alpha\n",
    "mab = LinUCB(10, 10, best_alpha)\n",
    "results_LinUCB_with_best_alpha = offlineEvaluate(mab, arms, rewards, contexts, 800)\n",
    "print('LinUCB with best alpha average reward', np.mean(results_LinUCB_with_best_alpha))\n",
    "\n",
    "plt.plot(alphas, param_tuning_results)\n",
    "\n",
    "plt.xlabel(\"alpha\")\n",
    "plt.ylabel(\"Average reward\")\n",
    "plt.title(\"Grid-search based strategy to select alpha hyperparameter in LinUCB\")"
   ]
  },
  {
   "cell_type": "markdown",
   "metadata": {},
   "source": [
    "## 6. Implement KernelUCB contextual MAB"
   ]
  },
  {
   "cell_type": "code",
   "execution_count": 16,
   "metadata": {},
   "outputs": [],
   "source": [
    "class KernelUCB(MAB):\n",
    "    \"\"\"Kernelised contextual multi-armed bandit (Kernelised LinUCB)\n",
    "    \n",
    "    Parameters\n",
    "    ----------\n",
    "    n_arms : int\n",
    "        Number of arms.\n",
    "\n",
    "    n_dims : int\n",
    "        Number of features for each arm's context.\n",
    "\n",
    "    gamma : float\n",
    "        Positive real explore-exploit parameter.\n",
    "    \n",
    "    eta : float\n",
    "        Positive real explore-exploit parameter.\n",
    "    \n",
    "    kern : callable\n",
    "        A kernel function from sklearn.metrics.pairwise.\n",
    "    \"\"\"\n",
    "    def __init__(self, n_arms, n_dims, gamma, eta, kern):\n",
    "        super().__init__(n_arms)\n",
    "        self.n_dims = n_dims\n",
    "        self.gamma = gamma\n",
    "        self.eta = eta\n",
    "        self.kern = kern\n",
    "        # the number of round\n",
    "        self.n_round = 1\n",
    "        # the list of the context of selected arm\n",
    "        self.stored_contexts = []\n",
    "        # A map for the inverse of K in different round\n",
    "        self.K_inverse = {}\n",
    "        # the transpose of reward history y\n",
    "        self.y_transpose = []\n",
    "        \n",
    "    def play(self, context):\n",
    "        u = np.zeros(self.n_arms)\n",
    "        if self.n_round == 1:\n",
    "            u[0] = 1\n",
    "        else:\n",
    "            context = np.reshape(context, (self.n_arms,self.n_dims))\n",
    "            # calculate the k_xa,t_t for all the arms\n",
    "            # which can save time compared to calculate the k_xa,t_t respectively\n",
    "            k_x = self.kern(context,np.reshape(self.stored_contexts,(self.n_round-1,self.n_dims)))\n",
    "            for a in range(self.n_arms):\n",
    "                # for 1d array, we need to reshape to matrix\n",
    "                # otherwise, they cannot be transposed\n",
    "                x_a = context[a].reshape(1, -1)\n",
    "                sigma_a = np.sqrt(np.abs(self.kern(x_a, x_a)\n",
    "                                         -np.dot(np.transpose(k_x[a]), np.dot(self.K_inverse[self.n_round], k_x[a]))))\n",
    "                u_a = np.dot(np.transpose(k_x[a]), np.dot(self.K_inverse[self.n_round], np.transpose(np.reshape(self.y_transpose, (1, -1)))))\\\n",
    "                      +(self.eta/np.sqrt(self.gamma))*sigma_a\n",
    "                u[a] = u_a\n",
    "        # choose a random arm with the maximum score\n",
    "        return random_argmax(u)\n",
    "    \n",
    "    def update(self, arm, reward, context):\n",
    "        self.stored_contexts.append(context[arm].reshape(1, -1))\n",
    "        self.y_transpose.append(reward)\n",
    "        x_t = context[arm].reshape(1, -1)\n",
    "        if self.n_round == 1:\n",
    "            self.K_inverse[self.n_round+1] = 1/(self.kern(x_t, x_t)+self.gamma)\n",
    "        else:\n",
    "            # the transpose of b is equal to [k(x_t, x_1), ...., k(x_t, x_t-1) ]\n",
    "            b_transpose = []\n",
    "            for i in range(self.n_round-1):\n",
    "                b_transpose.append(self.kern(x_t, self.stored_contexts[i].reshape(1, -1)))\n",
    "            b_transpose = np.array(b_transpose).reshape(1, -1)\n",
    "            # calculate K11, K12, K21, K22 separately\n",
    "            K22 = 1/(self.kern(x_t, x_t)+self.gamma-np.dot(b_transpose, np.dot(self.K_inverse[self.n_round], np.transpose(b_transpose))))\n",
    "            K11 = self.K_inverse[self.n_round] \\\n",
    "                  + K22*np.dot(self.K_inverse[self.n_round], np.dot(np.transpose(b_transpose), np.dot(b_transpose, self.K_inverse[self.n_round])))\n",
    "            K12 = - K22*np.dot(self.K_inverse[self.n_round], np.transpose(b_transpose))\n",
    "            K21 = - K22*np.dot(b_transpose, self.K_inverse[self.n_round])\n",
    "            # reshape K11, K12, K21, K22\n",
    "            K11 = np.reshape(K11,(self.n_round-1,self.n_round-1))\n",
    "            K12 = np.reshape(K12,(self.n_round-1,1))\n",
    "            K21 = np.reshape(K21,(1,self.n_round-1))\n",
    "            K22 = np.reshape(K22,(1,1))\n",
    "            # formulate inverse of K_t+1 via K11, K12, K21, K22\n",
    "            self.K_inverse[self.n_round+1] = np.vstack((np.hstack((K11,K12)),np.hstack((K21,K22))))\n",
    "        self.n_round += 1"
   ]
  },
  {
   "cell_type": "code",
   "execution_count": 17,
   "metadata": {},
   "outputs": [
    {
     "name": "stdout",
     "output_type": "stream",
     "text": [
      "KernelUCB average reward 0.74625\n"
     ]
    }
   ],
   "source": [
    "mab = KernelUCB(10, 10, 1.0, 0.1, rbf_kernel)\n",
    "results_KernelUCB = offlineEvaluate(mab, arms, rewards, contexts, 800)\n",
    "print('KernelUCB average reward', np.mean(results_KernelUCB))"
   ]
  },
  {
   "cell_type": "code",
   "execution_count": 18,
   "metadata": {},
   "outputs": [
    {
     "data": {
      "text/plain": "<Figure size 432x288 with 1 Axes>",
      "image/png": "[encoded data removed]"
     },
     "metadata": {
      "needs_background": "light"
     },
     "output_type": "display_data"
    }
   ],
   "source": [
    "# compare LinUCB and KernelUCB\n",
    "\n",
    "# cumulate rewards\n",
    "cumulative_reward_LinUCB_with_best_alpha = np.cumsum(results_LinUCB_with_best_alpha)\n",
    "cumulative_reward_KernelUCB = np.cumsum(results_KernelUCB)\n",
    "\n",
    "plt.plot(time_stamp,cumulative_reward_LinUCB/time_stamp,color=\"yellow\",label=\"LinUCB with alpha = 1\")\n",
    "plt.plot(time_stamp,cumulative_reward_LinUCB_with_best_alpha/time_stamp,color=\"red\",label=\"LinUCB with alpha = \"+str(best_alpha))\n",
    "plt.plot(time_stamp,cumulative_reward_KernelUCB/time_stamp,color=\"blue\", label=\"KernelUCB with default setting\")\n",
    "\n",
    "plt.legend(loc=\"upper left\", frameon=True)\n",
    "plt.xlabel(\"T\")\n",
    "plt.ylabel(r\"$T^{-1}\\sum_{t=1}^T\\ r_{t,a}$\")\n",
    "plt.title(\"Per-round cumulative reward between LinUCB and KernelUCB\")\n",
    "\n",
    "plt.show()"
   ]
  }
 ],
 "metadata": {
  "kernelspec": {
   "display_name": "Python 3",
   "language": "python",
   "name": "python3"
  },
  "language_info": {
   "codemirror_mode": {
    "name": "ipython",
    "version": 3
   },
   "file_extension": ".py",
   "mimetype": "text/x-python",
   "name": "python",
   "nbconvert_exporter": "python",
   "pygments_lexer": "ipython3",
   "version": "3.8.5"
  }
 },
 "nbformat": 4,
 "nbformat_minor": 4
}